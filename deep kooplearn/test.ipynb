{
 "cells": [
  {
   "cell_type": "code",
   "execution_count": null,
   "metadata": {},
   "outputs": [],
   "source": [
    "from main import GeneralModel\n",
    "from kooplearn.numpy.estimators import ReducedRankRegressor_v2\n",
    "\n",
    "model = GeneralModel()\n",
    "koop = ReducedRankRegressor_v2()\n",
    "model.set_koopman(koop)"
   ]
  }
 ],
 "metadata": {
  "language_info": {
   "name": "python"
  },
  "orig_nbformat": 4
 },
 "nbformat": 4,
 "nbformat_minor": 2
}
