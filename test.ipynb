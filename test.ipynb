{
 "cells": [
  {
   "cell_type": "markdown",
   "metadata": {},
   "source": [
    "# Test file for proof of concept"
   ]
  },
  {
   "cell_type": "code",
   "execution_count": null,
   "metadata": {},
   "outputs": [],
   "source": [
    "from kooplearn.main import GeneralModel\n",
    "from kooplearn.numpy.estimators import ReducedRankRegressor_v2\n",
    "from kooplearn.feature_maps.DNNFeatureMap import DNNFeatureMap\n",
    "\n",
    "model = GeneralModel()\n"
   ]
  },
  {
   "cell_type": "code",
   "execution_count": null,
   "metadata": {},
   "outputs": [],
   "source": [
    "# initialising the feature map\n",
    "phi = DNNFeatureMap()\n",
    "# TODO: add learning parameters and deep model\n",
    "\n",
    "model.set_feature_map(phi)"
   ]
  },
  {
   "cell_type": "code",
   "execution_count": null,
   "metadata": {},
   "outputs": [],
   "source": [
    "koop = ReducedRankRegressor_v2()\n",
    "\n",
    "model.set_koopman(koop)"
   ]
  }
 ],
 "metadata": {
  "kernelspec": {
   "display_name": "Python 3.9.13 ('base')",
   "language": "python",
   "name": "python3"
  },
  "language_info": {
   "name": "python",
   "version": "3.9.13"
  },
  "orig_nbformat": 4,
  "vscode": {
   "interpreter": {
    "hash": "f0bcfcda63c851defbee2a4e03542a44875ad3976f8e26c33baa4f51acd41b5a"
   }
  }
 },
 "nbformat": 4,
 "nbformat_minor": 2
}
