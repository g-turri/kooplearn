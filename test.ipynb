{
 "cells": [
  {
   "cell_type": "markdown",
   "metadata": {},
   "source": [
    "# Test file for proof of concept"
   ]
  },
  {
   "cell_type": "code",
   "execution_count": null,
   "metadata": {},
   "outputs": [],
   "source": [
    "import numpy as np\n",
    "\n",
    "from kooplearn.main import GeneralModel\n",
    "from kooplearn.numpy.estimators import ReducedRankRegressor_v2\n",
    "from kooplearn.feature_maps.DNNFeatureMap import DNNFeatureMap"
   ]
  },
  {
   "cell_type": "markdown",
   "metadata": {},
   "source": [
    "### 1. kernel method only"
   ]
  },
  {
   "cell_type": "code",
   "execution_count": null,
   "metadata": {},
   "outputs": [],
   "source": [
    "from kooplearn.estimators import ReducedRank\n",
    "from kooplearn.kernels import RBF\n",
    "\n",
    "model = GeneralModel()\n",
    "\n",
    "koop = ReducedRank(RBF(lengthscale=1.), rank=1, rikhonov_reg=1e-1)\n",
    "model.set_koopman(koop)\n",
    "\n",
    "X = 3*np.arange(100) + np.random.normal(0,1, size=(100))\n",
    "Y = X[1:]\n",
    "X = X[:-1]\n",
    "\n",
    "model.fit(X,Y)\n",
    "model.forecast(1, Y[-1])"
   ]
  },
  {
   "cell_type": "markdown",
   "metadata": {},
   "source": [
    "### 2. Deep Feature maps"
   ]
  },
  {
   "cell_type": "code",
   "execution_count": null,
   "metadata": {},
   "outputs": [],
   "source": [
    "model = GeneralModel()"
   ]
  },
  {
   "cell_type": "code",
   "execution_count": null,
   "metadata": {},
   "outputs": [],
   "source": [
    "# initialising the feature map\n",
    "phi = DNNFeatureMap()\n",
    "# TODO: add learning parameters and deep model\n",
    "\n",
    "model.set_feature_map(phi)"
   ]
  },
  {
   "cell_type": "code",
   "execution_count": null,
   "metadata": {},
   "outputs": [],
   "source": [
    "koop = ReducedRankRegressor_v2()\n",
    "\n",
    "model.set_koopman(koop)"
   ]
  }
 ],
 "metadata": {
  "kernelspec": {
   "display_name": "Python 3.9.13 ('base')",
   "language": "python",
   "name": "python3"
  },
  "language_info": {
   "name": "python",
   "version": "3.9.13"
  },
  "orig_nbformat": 4,
  "vscode": {
   "interpreter": {
    "hash": "f0bcfcda63c851defbee2a4e03542a44875ad3976f8e26c33baa4f51acd41b5a"
   }
  }
 },
 "nbformat": 4,
 "nbformat_minor": 2
}
